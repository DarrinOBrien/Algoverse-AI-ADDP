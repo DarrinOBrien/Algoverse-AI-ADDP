{
 "cells": [
  {
   "cell_type": "markdown",
   "metadata": {},
   "source": [
    "# 0. Overview\n",
    "Author: Darrin O'Brien, darrinobrien5@gmail.com\n",
    "1. Loads Results from testing of entire dataset.\n",
    "2. Graphs them"
   ]
  },
  {
   "cell_type": "markdown",
   "metadata": {},
   "source": [
    "## 1. Imports"
   ]
  },
  {
   "cell_type": "code",
   "execution_count": null,
   "metadata": {},
   "outputs": [],
   "source": [
    "import pandas as pd\n",
    "import matplotlib.pyplot as plt \n",
    "import os\n",
    "import numpy as np"
   ]
  },
  {
   "cell_type": "markdown",
   "metadata": {},
   "source": [
    "## 2. Results Preparation"
   ]
  },
  {
   "cell_type": "code",
   "execution_count": null,
   "metadata": {},
   "outputs": [],
   "source": [
    "results = [] # File Loading\n",
    "\n",
    "path = '/Users/darrinobrien/Desktop/Algoverse/CLIP/MNIST/Entire/Results/Entire_Transformation_Matrix_W'\n",
    "\n",
    "try:\n",
    "    for filename in os.listdir(path):\n",
    "        if filename == \".DS_Store\":\n",
    "            continue\n",
    "        file_path = os.path.join(path, filename)\n",
    "        if os.path.isfile(file_path):\n",
    "            results.append(file_path)\n",
    "except FileNotFoundError:\n",
    "    print(f\"Error: The Folder '{path}' was not found.\")\n",
    "except Exception as e:\n",
    "    print(f\"An error occured: {e}\")"
   ]
  },
  {
   "cell_type": "code",
   "execution_count": null,
   "metadata": {},
   "outputs": [],
   "source": [
    "len(results) # Should be 22. Sanity Check"
   ]
  },
  {
   "cell_type": "code",
   "execution_count": null,
   "metadata": {},
   "outputs": [],
   "source": [
    "data = [pd.read_csv(i) for i in results]\n",
    "data = sorted(data, key=lambda df: df.loc[0, \"Train_Data_Size\"])\n",
    "\n",
    "# Columns\n",
    "'''\n",
    "data = {\n",
    "    'Train_Data_Size': [train_size]*len(indices),\n",
    "    \"Transformation\": [type if type != \"\" else \"None\"] * len(indices),\n",
    "    'W': [W[i] for i in indices], # data.loc[0, \"W\"] -> First layer transformation\n",
    "    'b': [b[i] for i in indices],\n",
    "    'Accuracy': [correct[i] for i in indices], \n",
    "    \"Co_Sim_CLS\": [sim_cls[i] for i in indices],\n",
    "}\n",
    "'''"
   ]
  },
  {
   "cell_type": "code",
   "execution_count": null,
   "metadata": {},
   "outputs": [],
   "source": [
    "data[0].loc[2, \"Co_Sim_CLS\"]"
   ]
  },
  {
   "cell_type": "code",
   "execution_count": null,
   "metadata": {},
   "outputs": [],
   "source": [
    "# 14 Models / Transformation Layer Augmentations\n",
    "# 2 Metrics: Classification Accuracy + Cosine Similarity\n",
    "# 22 Files. Each one = Different Training Size. 12 * 2 = 24 plots, with 22 data points each.\n",
    "\n",
    "nrows = 2\n",
    "ncols = 12\n",
    "\n",
    "# figure, axes = plt.subplots(nrows, ncols)\n",
    "for i in range(12): # For Each Layer\n",
    "    plt.figure(figsize=(6,4))\n",
    "    train_size = []\n",
    "    acc = []\n",
    "    co_sim_cls = []\n",
    "    for j in range(21): # For Each File\n",
    "        train_size.append(data[j].loc[i, \"Train_Data_Size\"])\n",
    "        acc.append(data[j].loc[i, \"Accuracy\"])\n",
    "        co_sim_cls.append(data[j].loc[i, \"Co_Sim_CLS\"])\n",
    "    \n",
    "    plt.plot(train_size, acc, marker='o', color='steelblue', label=\"Accuracy\")\n",
    "    plt.plot(train_size, co_sim_cls, marker='o', color=\"forestgreen\", label=\"Cosine Similarity\")\n",
    "    plt.legend()\n",
    "    plt.title(f\"Augmented CLIP-MNIST with W at Layer {i}\")\n",
    "    plt.xlabel(\"Size of Training Data\", labelpad=6)\n",
    "    plt.tight_layout()\n",
    "    plt.savefig(f'/Users/darrinobrien/Desktop/Algoverse Important Files/CLIP-MNIST/Entire/GraphedResults/Augmented_Layer_{i}', dpi=600)\n",
    "    plt.show()"
   ]
  },
  {
   "cell_type": "code",
   "execution_count": null,
   "metadata": {},
   "outputs": [],
   "source": [
    "# All Accuracy Together\n",
    "train_size = []\n",
    "for i in range(21):\n",
    "    train_size.append(data[i].loc[0, \"Train_Data_Size\"])\n",
    "acc_vals = {}\n",
    "for i in range(12):\n",
    "    acc_vals[i] = []\n",
    "for i in range(12):\n",
    "    for j in range(21):\n",
    "        acc_vals[i].append(data[j].loc[i, \"Accuracy\"])\n",
    "\n",
    "colors = plt.cm.tab20(np.linspace(0,1,12))\n",
    "plt.figure(figsize=(20,12))\n",
    "for i in range(12):\n",
    "    plt.plot(train_size, acc_vals[i], marker=\"o\", color=colors[i], label=f\"{i} Layer Accuracy\")\n",
    "plt.legend(\n",
    "    loc=\"center left\",\n",
    "    bbox_to_anchor=(1.0, 0.5)\n",
    ")\n",
    "plt.title(\"Augmented CLIP-MNIST with W at All Layers\")\n",
    "plt.xlabel(\"Size of training Data\", labelpad=6)\n",
    "plt.tight_layout()\n",
    "plt.show()"
   ]
  },
  {
   "cell_type": "code",
   "execution_count": null,
   "metadata": {},
   "outputs": [],
   "source": [
    "# All CLS Cosine Similarity Together\n",
    "train_size = []\n",
    "for i in range(21):\n",
    "    train_size.append(data[i].loc[0, \"Train_Data_Size\"])\n",
    "cls_vals = {}\n",
    "for i in range(12):\n",
    "    cls_vals[i] = []\n",
    "for i in range(12):\n",
    "    for j in range(21):\n",
    "        cls_vals[i].append(data[j].loc[i, \"Co_Sim_CLS\"])\n",
    "\n",
    "colors = plt.cm.tab20(np.linspace(0,1,12))\n",
    "plt.figure(figsize=(20,12))\n",
    "for i in range(12):\n",
    "    plt.plot(train_size, acc_vals[i], marker=\"o\", color=colors[i], label=f\"{i} Layer CLS Cosine Similarity\")\n",
    "plt.legend(\n",
    "    loc=\"center left\",\n",
    "    bbox_to_anchor=(1.0, 0.5)\n",
    ")\n",
    "plt.title(\"Augmented CLIP-MNIST with W at All Layers\")\n",
    "plt.xlabel(\"Size of training Data\", labelpad=6)\n",
    "plt.tight_layout()\n",
    "plt.show()"
   ]
  }
 ],
 "metadata": {
  "kernelspec": {
   "display_name": "base",
   "language": "python",
   "name": "python3"
  },
  "language_info": {
   "codemirror_mode": {
    "name": "ipython",
    "version": 3
   },
   "file_extension": ".py",
   "mimetype": "text/x-python",
   "name": "python",
   "nbconvert_exporter": "python",
   "pygments_lexer": "ipython3",
   "version": "3.12.7"
  },
  "orig_nbformat": 4
 },
 "nbformat": 4,
 "nbformat_minor": 2
}
